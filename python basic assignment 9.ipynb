{
 "cells": [
  {
   "cell_type": "code",
   "execution_count": null,
   "id": "4df0c66a",
   "metadata": {},
   "outputs": [],
   "source": [
    "#Python Basic Assignment 9"
   ]
  },
  {
   "cell_type": "markdown",
   "id": "6fb0a054",
   "metadata": {},
   "source": [
    "1.To what does a relative path refer?"
   ]
  },
  {
   "cell_type": "code",
   "execution_count": null,
   "id": "7ee8f043",
   "metadata": {},
   "outputs": [],
   "source": [
    "# A relative path refers to a location that is relative to a current directory.\n",
    "# Relative paths make use of two special symbols, a dot (.) and a double-dot (..), which translate into the current directory \n",
    "# and the parent directory. \n",
    "# The current directory is sometimes referred to as the root directory."
   ]
  },
  {
   "cell_type": "markdown",
   "id": "7eb47d7a",
   "metadata": {},
   "source": [
    "2.What does an absolute path start with your operating system?"
   ]
  },
  {
   "cell_type": "code",
   "execution_count": null,
   "id": "c58850b6",
   "metadata": {},
   "outputs": [],
   "source": [
    "# Absolute path names always begin with the slash (/) symbol. Traces the path from the current directory through\n",
    "# its parent or its subdirectories and files. An absolute path name represents the complete name of a directory\n",
    "# or file from the /(root) directory downward."
   ]
  },
  {
   "cell_type": "markdown",
   "id": "241a0c77",
   "metadata": {},
   "source": [
    "3.What do the functions os.getcwd() and os.chdir() do?"
   ]
  },
  {
   "cell_type": "code",
   "execution_count": null,
   "id": "8ded15b2",
   "metadata": {},
   "outputs": [],
   "source": [
    "# getcwd() : CWD stands for Current Working Directory. This function allows you to see what your current working directory is. \n",
    "# chdir(\"path-to-dir\") : Short for CHange DIRectory, this function allows you to set the current working directory to a path \n",
    "# of your choice."
   ]
  },
  {
   "cell_type": "markdown",
   "id": "5ca1f187",
   "metadata": {},
   "source": [
    "4.What are the . and .. folders?"
   ]
  },
  {
   "cell_type": "code",
   "execution_count": null,
   "id": "1e58e3fc",
   "metadata": {},
   "outputs": [],
   "source": [
    "# . means the folder currently set for QDir, .. refers to the parent folder, where  QDir is used to manipulate path names, \n",
    "#  access information regarding paths and files, and manipulate the underlying file system."
   ]
  },
  {
   "cell_type": "markdown",
   "id": "b01dc9bf",
   "metadata": {},
   "source": [
    "5.In C:\\bacon\\eggs\\spam.txt, which part is the dir name, and which part is the base name?"
   ]
  },
  {
   "cell_type": "code",
   "execution_count": null,
   "id": "f4fd6613",
   "metadata": {},
   "outputs": [],
   "source": [
    "# C:\\bacon\\eggs is the dir name, while spam.txt is the bese name of a .txt file."
   ]
  },
  {
   "cell_type": "markdown",
   "id": "37bc5766",
   "metadata": {},
   "source": [
    "6.What are the three “mode” arguments that can be passed to the open() function?"
   ]
  },
  {
   "cell_type": "code",
   "execution_count": null,
   "id": "a0a9d36a",
   "metadata": {},
   "outputs": [],
   "source": [
    "# r: open an existing file for a read operation.\n",
    "# w: open an existing file for a write operation. \n",
    "# a: open an existing file for append operation."
   ]
  },
  {
   "cell_type": "markdown",
   "id": "5ab36252",
   "metadata": {},
   "source": [
    "7.What happens if an existing file is opened in write mode?"
   ]
  },
  {
   "cell_type": "code",
   "execution_count": null,
   "id": "c26fd0e8",
   "metadata": {},
   "outputs": [],
   "source": [
    "# If the file is opened in write mode then existing data will be removed.\n",
    "# It also creates a file, if the file does not exist."
   ]
  },
  {
   "cell_type": "markdown",
   "id": "1cb64f8b",
   "metadata": {},
   "source": [
    "8.How do you tell the difference between read() and readlines()?"
   ]
  },
  {
   "cell_type": "code",
   "execution_count": null,
   "id": "ce1e15e2",
   "metadata": {},
   "outputs": [],
   "source": [
    "# read() -reads all of the file's contents into a string\n",
    "# readlines() -reads just a single line from the file."
   ]
  },
  {
   "cell_type": "markdown",
   "id": "a83bc48a",
   "metadata": {},
   "source": [
    "9.What data structure does a shelf value resemble?"
   ]
  },
  {
   "cell_type": "code",
   "execution_count": null,
   "id": "8553fef3",
   "metadata": {},
   "outputs": [],
   "source": [
    "# A shelf value resembles a dictionary value; it has keys and values, along with keys() and values() methods \n",
    "# that work similarly to the dictionary methods of the same names."
   ]
  }
 ],
 "metadata": {
  "kernelspec": {
   "display_name": "Python 3 (ipykernel)",
   "language": "python",
   "name": "python3"
  },
  "language_info": {
   "codemirror_mode": {
    "name": "ipython",
    "version": 3
   },
   "file_extension": ".py",
   "mimetype": "text/x-python",
   "name": "python",
   "nbconvert_exporter": "python",
   "pygments_lexer": "ipython3",
   "version": "3.9.7"
  }
 },
 "nbformat": 4,
 "nbformat_minor": 5
}
